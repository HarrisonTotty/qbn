{
 "cells": [
  {
   "cell_type": "markdown",
   "id": "c2198b52-9f69-4a49-a951-31b9d1ea8a3f",
   "metadata": {},
   "source": [
    "# Quantum-Optimizated Training of Boolean Function Networks"
   ]
  },
  {
   "cell_type": "markdown",
   "id": "5f13308c-5122-4183-bbe4-092e06c5b30e",
   "metadata": {},
   "source": [
    "## Introduction"
   ]
  },
  {
   "cell_type": "markdown",
   "id": "c2eaaf6c-b412-42b8-973f-c88dfcdc2a75",
   "metadata": {},
   "source": [
    "This project is essentially an extension of the research I did with [Stephen Wolfram](https://en.wikipedia.org/wiki/Stephen_Wolfram) back in 2016. The goal is to construct a typical feed-forward neural network from a pseudo-mesh of boolean functions of two inputs. By a boolean function, I mean a function of the form:"
   ]
  },
  {
   "cell_type": "markdown",
   "id": "971149dc-b798-4466-b7ff-7e1c3172fd3c",
   "metadata": {},
   "source": [
    "$f : \\{0, 1\\}^{k} \\rightarrow \\{0, 1\\}$ where $k \\in \\mathbb{Z}^{0+}$"
   ]
  },
  {
   "cell_type": "markdown",
   "id": "0b0726ee-820b-48ab-956a-20aa42beaaf5",
   "metadata": {},
   "source": [
    "For our purposes we are concerned with boolean functions of arity $k = 2$, each with the Python signature:\n",
    "\n",
    "```python\n",
    "def f(a: bool, b: bool) -> bool\n",
    "```"
   ]
  },
  {
   "cell_type": "markdown",
   "id": "2c8e0cb0-414f-4064-82ea-1dd4b35ae749",
   "metadata": {},
   "source": [
    "There are 16 possible such functions, which are enumerated according to the following table:\n",
    "\n",
    "| n | Definition | Name |\n",
    "|---|------------|------|\n",
    "| 0 | $0$ | FALSE |\n",
    "| 1 | $a \\land b$ | a AND b |\n",
    "| 2 | $a \\land \\lnot b$ | a AND NOT b |\n",
    "| 3 | $a$ | a |\n",
    "| 4 | $\\lnot a \\land b$ | NOT a AND b |\n",
    "| 5 | $b$ | b |\n",
    "| 6 | $a \\veebar b$ | a XOR b |\n",
    "| 7 | $a \\lor b$ | a OR b |\n",
    "| 8 | $a \\overline{\\vee} b$ | a NOR b |\n",
    "| 9 | $a \\odot b$ | a XNOR b |\n",
    "| 10 | $\\lnot b$ | NOT b |\n",
    "| 11 | $a \\lor \\lnot b$ | a OR NOT b |\n",
    "| 12 | $\\lnot a$ | NOT a |\n",
    "| 13 | $\\lnot a \\lor b$ | NOT a OR b |\n",
    "| 14 | $a \\overline{\\land} b$ | a NAND b |\n",
    "| 15 | $1$ | TRUE |"
   ]
  },
  {
   "cell_type": "markdown",
   "id": "fd49d364-7ff0-42a0-be0e-66659215cf69",
   "metadata": {},
   "source": [
    "To facilitate the creation of the $n$th boolean function of arity 2, in the accompanying library we define a `BooleanFunction` like so:"
   ]
  },
  {
   "cell_type": "code",
   "execution_count": 1,
   "id": "0651709b-0b7c-408c-91ca-77ffa213ec83",
   "metadata": {},
   "outputs": [
    {
     "data": {
      "text/plain": [
       "False"
      ]
     },
     "execution_count": 1,
     "metadata": {},
     "output_type": "execute_result"
    }
   ],
   "source": [
    "from qbn.bf import BooleanFunction\n",
    "\n",
    "# Define f to be the 6th boolean function of two inputs (XOR).\n",
    "f = BooleanFunction(6)\n",
    "\n",
    "# Evaluate f(a, b).\n",
    "f(True, True)"
   ]
  },
  {
   "cell_type": "markdown",
   "id": "d81498bd-6512-4719-95c4-4e55cc9e07b9",
   "metadata": {},
   "source": [
    "Consider a feed-forward \"neural network\" comprised of some combination of boolean functions as neurons. We concieve this network as being comprised of _layers_ represented by an array of boolean functions."
   ]
  },
  {
   "cell_type": "code",
   "execution_count": 2,
   "id": "e7ae9fea-ecf9-4339-8ddd-a04cf51ae469",
   "metadata": {},
   "outputs": [],
   "source": [
    "from qbn.network import Layer, LayerList\n",
    "\n",
    "# The following will produce a layer consisting of the 3rd, 6th, and 14th boolean functions.\n",
    "layer = Layer.build([3, 6, 14])\n",
    "\n",
    "# We define layers as lists of boolean functions.\n",
    "assert layer[2] == BooleanFunction(14)\n",
    "\n",
    "# We can stack layers on top of each other to form a list.\n",
    "layer_list = LayerList.build([[3, 5], [2, 8]])\n",
    "\n",
    "# For instance, the first layer is made up of the 3rd and 5th boolean functions.\n",
    "assert layer_list[0] == Layer.build([3, 5])"
   ]
  },
  {
   "cell_type": "markdown",
   "id": "bc58f4a6-00f7-461d-958c-ca772d17a510",
   "metadata": {},
   "source": [
    "To \"evaluate\" this network on a particular input, we partition an input array of boolean values such that values are paired with each other and a corresponding boolean function of the first layer of the network. The outputs of the first layer forms an array which is then passed as input into the second layer of the network, and so on."
   ]
  },
  {
   "cell_type": "code",
   "execution_count": 3,
   "id": "6c84e0f8-1a04-4667-9fc9-6701187ecc90",
   "metadata": {},
   "outputs": [
    {
     "data": {
      "text/plain": [
       "[False, False, True, True, False]"
      ]
     },
     "execution_count": 3,
     "metadata": {},
     "output_type": "execute_result"
    }
   ],
   "source": [
    "input_array = [True, False, True, True, False]\n",
    "\n",
    "# Both Layer and LayerList implement __call__().\n",
    "layer_list(input_array)"
   ]
  },
  {
   "cell_type": "markdown",
   "id": "0fbe0c45-cfb8-4a70-aa88-85cdb1ea4150",
   "metadata": {},
   "source": [
    "Such a network forms a [Boolean Circuit](https://en.wikipedia.org/wiki/Boolean_circuit) and is thus _P-complete_. In other words, there is no way to deduce or predict the output of the network other than by evaluating it. In addion, back-propagation via gradient descent on the network is impossible. We are thus confined to a Monte Carlo training mechanism in which we select and change a random neuron in the network to a new random boolean function."
   ]
  },
  {
   "cell_type": "markdown",
   "id": "d51239bc-de80-458e-80ef-d468d59400fc",
   "metadata": {},
   "source": [
    "### Classical Training Procedure"
   ]
  },
  {
   "cell_type": "markdown",
   "id": "5e213438-9cb0-42bf-9075-04cc389b8985",
   "metadata": {},
   "source": [
    "As stated above, we must unfortunately result to a pseudo-random training algorithm. At each step of the training process, we select and replace the boolean function of a neuron with a new random boolean function. We then determine the accuracy of the network by discerning the average proportion of a each class of inputs that produce the same output. While we _can_ make minor optimizations like preferring to tweak neurons that topologically map to areas of the input that are more active (like the centers of images in MNIST data), in general our training process is unnessessarily long."
   ]
  },
  {
   "cell_type": "markdown",
   "id": "ea4e04aa-e658-4bbd-8cbd-2397ced2c88e",
   "metadata": {},
   "source": [
    "To make things a little more friendly, we'll encapsulate our network into a new class called `Network` which contains the list of layers that comprise the \"physical\" network and a mapping of outputs to their corresponding classes. The latter is essentially a `dict[list[bool], str]` that might have entries like so:\n",
    "\n",
    "```\n",
    "{\n",
    "  [True, False, True, True, False]: \"Cat\",\n",
    "  [False, True, False, True, True]: \"Dog\"\n",
    "}\n",
    "```\n",
    "\n",
    "Since `list[bool]` types aren't hashable, we introduce a wrapper class called `BooleanArray` such that our mapping is now of the form `dict[BooleanArray, str]`. We finally wrap this into a new class called `ClassificationMap`. This class serves a duel purpose:\n",
    "\n",
    "1. Translating `LayerList` outputs to `str` classifications.\n",
    "2. Representing training data inputs to their corresponding classifications."
   ]
  },
  {
   "cell_type": "markdown",
   "id": "76a6997c-7d21-41df-99d3-d555eb00a287",
   "metadata": {},
   "source": [
    "#### Left vs. Right"
   ]
  },
  {
   "cell_type": "markdown",
   "id": "a14ea064-a938-4a5a-a634-d5585b5b4ca8",
   "metadata": {},
   "source": [
    "Probably one of the simplest classification problems we could do with our network would be to classify whether `True` boolean values are located on the \"left\" side of an array, the \"right\" side of an array, or \"both\" sides (we omit the special \"neither\" case for demonstrative purposes). Let's consider a set of input arrays of length 8 - the training data for the network might look like the following:"
   ]
  },
  {
   "cell_type": "code",
   "execution_count": 4,
   "id": "ad19b7bb-04ab-48e9-9744-5695c1b2cdf2",
   "metadata": {},
   "outputs": [
    {
     "data": {
      "text/plain": [
       "{11110000 -> left, 11010000 -> left, 01110000 -> left, 01000000 -> left, 00000001 -> right, 00000011 -> right, 00000101 -> right, 00000010 -> right, 01000010 -> both, 10000011 -> both, 11100111 -> both, 10010010 -> both, 11111111 -> both}"
      ]
     },
     "execution_count": 4,
     "metadata": {},
     "output_type": "execute_result"
    }
   ],
   "source": [
    "from qbn.bf import BooleanArray\n",
    "from qbn.training import ClassificationMap\n",
    "\n",
    "lvr_training = ClassificationMap({\n",
    "    BooleanArray([True, True, True, True, False, False, False, False]): \"left\",\n",
    "    BooleanArray([True, True, False, True, False, False, False, False]): \"left\",\n",
    "    BooleanArray([False, True, True, True, False, False, False, False]): \"left\",\n",
    "    BooleanArray([False, True, False, False, False, False, False, False]): \"left\",\n",
    "    BooleanArray([False, False, False, False, False, False, False, True]): \"right\",\n",
    "    BooleanArray([False, False, False, False, False, False, True, True]): \"right\",\n",
    "    BooleanArray([False, False, False, False, False, True, False, True]): \"right\",\n",
    "    BooleanArray([False, False, False, False, False, False, True, False]): \"right\",\n",
    "    BooleanArray([False, True, False, False, False, False, True, False]): \"both\",\n",
    "    BooleanArray([True, False, False, False, False, False, True, True]): \"both\",\n",
    "    BooleanArray([True, True, True, False, False, True, True, True]): \"both\",\n",
    "    BooleanArray([True, False, False, True, False, False, True, False]): \"both\",\n",
    "    BooleanArray([True, True, True, True, True, True, True, True]): \"both\",\n",
    "})\n",
    "\n",
    "lvr_training"
   ]
  },
  {
   "cell_type": "markdown",
   "id": "97e3b8eb-343f-4f82-bff4-d470e06fa288",
   "metadata": {},
   "source": [
    "Let's create a new network for processing the training data. We'll arbitrarily create an 8x4 network with a random set of boolean functions."
   ]
  },
  {
   "cell_type": "code",
   "execution_count": 5,
   "id": "5bfb78ee-f7c3-4645-88ab-12cb8b80ac37",
   "metadata": {},
   "outputs": [
    {
     "data": {
      "text/plain": [
       "[4, 9, 9, 6, 9, 13, 9, 6]\n",
       "[9, 6, 13, 13, 4, 14, 14, 14]\n",
       "[2, 9, 11, 9, 1, 1, 4, 11]\n",
       "[4, 13, 14, 7, 2, 6, 7, 14]"
      ]
     },
     "execution_count": 5,
     "metadata": {},
     "output_type": "execute_result"
    }
   ],
   "source": [
    "from qbn.network import Network\n",
    "\n",
    "# Create a new, randomly initialized network of 4 layers of 8 neurons each.\n",
    "lvr_net = Network.build([8, 8, 8, 8])\n",
    "\n",
    "# Let's see what functions were randomly chosen.\n",
    "lvr_net.layers"
   ]
  },
  {
   "cell_type": "markdown",
   "id": "25c95129-6825-4762-adc6-e65372972298",
   "metadata": {},
   "source": [
    "Without training the network, we can check its current accuracy against the test data. The validity of the network is determined by whether each class is assigned a unique output."
   ]
  },
  {
   "cell_type": "code",
   "execution_count": 6,
   "id": "b80cbc4a-28c6-4068-8a42-193bb6ba49f5",
   "metadata": {},
   "outputs": [
    {
     "data": {
      "text/plain": [
       "Valid?:            True\n",
       "Overall Accuracy:  0.55\n",
       "Accuracy By Class: {'left': 0.25, 'right': 1.0, 'both': 0.4}\n",
       "\n",
       "Classifications:\n",
       "{01100111 -> left, 10100111 -> right, 10100011 -> both}"
      ]
     },
     "execution_count": 6,
     "metadata": {},
     "output_type": "execute_result"
    }
   ],
   "source": [
    "lvr_net.accuracy(lvr_training)"
   ]
  },
  {
   "cell_type": "markdown",
   "id": "f31c228f-cd28-4ac9-a600-6976cf8aafa1",
   "metadata": {},
   "source": [
    "Now let's train the network. As the training process runs, it will output the new accuracy score. The `goal` parameter specifies our intended target accuracy, defaulting to `0.95`."
   ]
  },
  {
   "cell_type": "code",
   "execution_count": 7,
   "id": "4a6787e1-3f92-43de-a2d2-c58d2254d477",
   "metadata": {},
   "outputs": [
    {
     "name": "stdout",
     "output_type": "stream",
     "text": [
      "New Accuracy: 0.63\n",
      "New Accuracy: 0.72\n"
     ]
    },
    {
     "data": {
      "text/plain": [
       "Valid?:            True\n",
       "Overall Accuracy:  0.72\n",
       "Accuracy By Class: {'left': 1.0, 'right': 0.75, 'both': 0.4}\n",
       "\n",
       "Classifications:\n",
       "{01100011 -> left, 10100111 -> right, 10100011 -> both}"
      ]
     },
     "execution_count": 7,
     "metadata": {},
     "output_type": "execute_result"
    }
   ],
   "source": [
    "lvr_net.train_classical(lvr_training, goal=0.9)"
   ]
  },
  {
   "cell_type": "markdown",
   "id": "7058245e-c835-489a-98e6-bd97899216e6",
   "metadata": {},
   "source": [
    "Now that our training process is complete, let's see what the network thinks about an input that was not in the training data."
   ]
  },
  {
   "cell_type": "code",
   "execution_count": 9,
   "id": "dd71b84f-9d66-4cb4-9e78-cc8baf38cbeb",
   "metadata": {},
   "outputs": [],
   "source": [
    "# This should evaluate to \"left\" since all `True` values are on the left side of the array.\n",
    "lvr_net([True, True, True, False, False, False, False, False])"
   ]
  },
  {
   "cell_type": "markdown",
   "id": "ef07dcae-e18b-4e29-a879-e536617239a6",
   "metadata": {},
   "source": [
    "#### MNIST"
   ]
  },
  {
   "cell_type": "markdown",
   "id": "2124a771-dcb8-4803-acd1-20cd8cc29bc6",
   "metadata": {},
   "source": [
    "Now let's test our system against something a bit more complicated. [MNIST](https://en.wikipedia.org/wiki/MNIST_database) is a dataset containing a variety of handwritten numbers in grayscale. To make each 28x28 image work with our network, we need to flatten the images into an array of strictly boolean values. We'll decide that any pixel value greater than `64` (out of `255`) should be considered `True`."
   ]
  },
  {
   "cell_type": "code",
   "execution_count": 10,
   "id": "472dbff1-d5f7-4c84-a405-a8f73db82ff0",
   "metadata": {},
   "outputs": [],
   "source": [
    "from qbn.datasets import get_mnist\n",
    "(mnist_training, mnist_test) = get_mnist(true_threshold=64)\n",
    "\n",
    "# Note the length of a single entry is 784 since each image is 28x28.\n",
    "assert len(list(mnist_training.keys())[0]) == 28 * 28"
   ]
  },
  {
   "cell_type": "markdown",
   "id": "8befcd71-c08a-457a-80e8-8384fdbd4b01",
   "metadata": {},
   "source": [
    "Let's create the boolean network. I should mention here that we make the assumption that our network has periodic boundary conditions, so any input to a layer that is longer than the layer itself will simply wrap around to the first boolean function again. This means that although we can make our network arbitrarily small in either dimension, the output dimensionality will always be the same as the input dimensionality. In other words, we are always doing 784 calculations per layer regardless of the layer size. While this has many downsides, one upside is that it is far more likely that unique inputs will generate unique outputs, and so the chance of getting a \"valid\" categorization increases."
   ]
  },
  {
   "cell_type": "code",
   "execution_count": 11,
   "id": "3bb3d48c-b6d2-43e1-9545-c067161b2d9b",
   "metadata": {},
   "outputs": [],
   "source": [
    "mnet = Network.build([392, 196, 98, 49, 24, 12, 6])"
   ]
  },
  {
   "cell_type": "markdown",
   "id": "6c0de494-2991-46b2-b749-5f0ef4b329ce",
   "metadata": {},
   "source": [
    "Like the previous example, let's start by checking the baseline accuracy of our network. You'll notice that each of the classification bitstrings are the size of an image itself."
   ]
  },
  {
   "cell_type": "code",
   "execution_count": 12,
   "id": "4f5be167-432d-42a2-8cdf-ff7b2508c2f0",
   "metadata": {},
   "outputs": [
    {
     "data": {
      "text/plain": [
       "Valid?:            True\n",
       "Overall Accuracy:  0.01\n",
       "Accuracy By Class: {'5': 0.01, '0': 0.01, '4': 0.01, '1': 0.02, '9': 0.01, '2': 0.01, '3': 0.01, '6': 0.01, '7': 0.01, '8': 0.01}\n",
       "\n",
       "Classifications:\n",
       "{1011111010011010111010001111101000101010111010001001101100101011101100011011111010101011111100001001101000101010111100011011111100111011100010011011101100101011101010011001101000101011100100111011101000101011101100011011101010101011111000111001111100111011101001111001101010111001111000001111101110101011101100001001101100111001101010001011101010101010111010111111101010101001101000001111111000111010111100011011101100101010111100011011101001111001101000001111111110101000111100111011111100011001111100011011111000101000111000001001111000111011101100001011101001111010111111111001101000101011101000111011101010101010100001111011101011111011101100111011101001111010111010011011101100011010111010001001111100111011101000001001111000101010111010111001111000101010111001101111101100111011 -> 5, 1011111010011010111010001111101000101010111010001001101100101011101100011011111010101011111100001001101000101010111100011011111000111011100010011011101100101011101010011001101000111010100100111011101000101011101100011011101010101011111000101001111100111011100001111001101100111001111000001111101110101011101100001001101100011011101010001011111010101010111010111111101010101011101000001111111000111010111100101011111100101011101100011011111111111001101010001111111110101000111100111011111000101010111100011011101000101000111000001001111001111011101100001011101100101011111000111001101000101011101000111011101010101010100001111011101011111011101001111011101001111010111010011011101100011010111010001001111100111011101000001001111000101010111010111001111000101010111001101111101100111011 -> 0, 1011111010011010111010001111101000101010111010001001101100101011101100011011111010101011111100001001101000101010111100011011111100111011100010011011101100111011101010011011101000111011101000111011101000101011111000011011101000101011111000101011111100111010100100111001101100111001101000001001101110101011101100111001100100101011101010011001101010101010111010111111101010111011101000001111111001111010111010101011101100101011101100011011101001111001101100001111111110101000111100111011111100011001111100011011111000101000111000001001111000101011101100001011101001111011111010101001101000101011101111111011101010101010111100111011101011111011101001111001101001111010111010011011101100011010111010001001111100111011101000001001111000101010111010111001111000101010111001101111101100111011 -> 4, 1011111010011010111010001111101000101010111010001001101100101011101100011011111010101011111100001001101000101010111100011011111000111011100010011011101100101011101010011001101000101010100100111011101000101011101100101011101010101011111000011001111100111011100100111001101010111001111000001011101110101011101100001001100100111001101010001011101010101010111010111111101010101001101000001111111000111010111010101011101100101010111100001111111001111001101000111011111110101000111100111011101011111001111100011011111000101011101000001001111000111011101100001011101001111000111000111001101000101010111000111011101010101010111100011011101011111011101001111011101001111010111010011011101100011010111010001001111100111011101000001001111000101010111010111001111000101010111001101111101100111011 -> 1, 1011111010011010111010001111101000101010111010001001101100101011101100011011111010101011111100001001101000101010111100011011111100111011100010011011101100101011101010011001101000111011100100111011101000101011101100101011101010101011111000111001111100111011100001111001101010111001111000001001101000101011101100111011100100111001101010001011101010101010111010111111101100101011101000001111111000111010111100011011101100101011101100001111111001111001101000111011101110101000111100111011100111111001111100011011111100101011101000001001111000101001101100001011101001111011101010111001101000101011101100001001101010101010111100111001101011111011101001111001101001111010111010011011101100011010111010001001111100111011101010001001111000101010111010111001111000101010111001101111101100111011 -> 9, 1011111010011010111010001111101000101010111010001001101100101011101100011011111010101011111100001001101000101010111100011011111100111011100010011011101100101011101010011001101000111010100100111011101000101011101100101011101010101011111000111001111100111011111011111001111010111001111000001111101000101011101100011011100100111001101010001011101010101010111010111111101010101001101000001111111000111010111010011011101100101011111000011011101001111001101000111011111110101000111100111001100100011010111100011011100100101011111000001001100110111011101100111011101001111011111000111001101000101011101000111011101010101010100100111011101011111011101001111001101001111010111010011011101100011010111010001001111100111011101000001001111000101010111010111001111000101010111001101111101100111011 -> 2, 1011111010011010111010001111101000101010111010001001101100101011101100011011111010101011111100001001101000101010111100011011111100111011100010011011111000101011101010011001101000101011101000111011101000101011101100011011101010101011111000101001111100111011100100111001101100111001111000001001101100101011101100001001100100111011101010001011101010101010111010111111101010111001101000001111111000101010111010011011101100101010111100011011101001111001101000011011111110101000111100111011111100011001111100011011111000101000111000001001100111111011101100001011101100101000101000101001101000101011101000101001101010101011101001111011101011111011101010011011101001111010111010011011101100011010111010001001111100111011101000001001111000101010111010111001111000101010111001101111101100111011 -> 3, 1011111010011010111010001111101000101010111010001001101100101011101100001011111010101011111100001001101000101010111100011001101100111011100010011011111000101011101010011001101000111011100100111011101000101011101100101011101010101011111000101001111100111011111010011001101010111001111000001001101110101011101100001001101100111001101010001011101010101010111010111111101010101010111000001111111000111010111100011011101100101011101100001111101001111001101100001111111110101000111100111011101011111001111100011011100000101011101000001001111000111011101100001011101001111011101110111001101000101010111000111011101010101010111100111011101011111011101001111001101001111010111010011011101100011010111010001001111100111011101000001001111000101010111010111001111000101010111001101111101100111011 -> 6, 1011111010011010111010001111101000101010111010001001101100101011101100011011111010101011111100001001101000101010111100011011111100111011100010011011101100101011101010011001101000111011100100111011101000101011101100011011101010101011101100101001111100111011111011111001101100111001111000001111101100101011101100111001101100111011101010001011101010101010111010111111101000101011101000001111111000111010111010011011101100101010111100011011101001111001101000001111101110101000111100111011101011111001111100011011111100101011101000001001111000111001101100001011101001111010111100111001101000101011100010011011101010101010111100111011101011111011101001111011101001111010111010011011101100011010111010001001111000111011101000001001111000111010111010111001111000101010111001101111101100111011 -> 7, 1011111010011010111010001111101000101010111010001001101100101011101100011011111010101011111100001001101000101010111100011011111100111011100010011011101100111011101010011001101000111011101000111011101000101011101100011011101010101011111000101001111100111011111011111001101010111001111000001001101110101011101100001001101000111001101010001011101010101010111010111111101010111001101000001111111000111010111100011011101100101010111100001111111001111001101000011011101110101000111100101001101010101001111100011011111100101011101000001001111000111001101100001011101001111011100010111001101000101011101001111011101010101010100001111011101011111011101001111011101001111010111010011011100100011010111010001001111100111011101000001001111000101010111010111001111000101010111001101111101100111011 -> 8}"
      ]
     },
     "execution_count": 12,
     "metadata": {},
     "output_type": "execute_result"
    }
   ],
   "source": [
    "mnet.accuracy(mnist_training)"
   ]
  },
  {
   "cell_type": "markdown",
   "id": "7eaf806f-e2a3-41d4-9a85-3a9940d196b8",
   "metadata": {},
   "source": [
    "Here's where we'll see firsthand the major downside of our required training algorithm. The process of training the network takes about a second per iteration. In my experience it is common to gain somewhere around 0.1-1% accuracy every hour of training time (with the gains becoming less and less over time)."
   ]
  },
  {
   "cell_type": "code",
   "execution_count": null,
   "id": "41d02b4a-493e-4d79-9ab6-d878cf0e9b10",
   "metadata": {
    "scrolled": true
   },
   "outputs": [],
   "source": [
    "mnet.train_classical(mnist_training, changes_per_iter=10)"
   ]
  },
  {
   "cell_type": "markdown",
   "id": "bfa75402-d583-4244-b5f5-27f29af5f744",
   "metadata": {},
   "source": [
    "### Introduction to Neutral-Atom Quantum Computers"
   ]
  },
  {
   "cell_type": "markdown",
   "id": "aa8a2324-7888-44a4-be6a-1a05ea9990a3",
   "metadata": {},
   "source": [
    "A [quantum computer](https://en.wikipedia.org/wiki/Quantum_computing) is a device that leverages quantum mechanical properties to perform computations. Such a computer works with qubits: the quantum variant of the classical binary bit. There are essentially two major technologies behind quantum computers at the moment: [Ion Traps](https://en.wikipedia.org/wiki/Trapped-ion_quantum_computer), and [Neutral-Atom Quantum Computers](https://en.wikipedia.org/wiki/Neutral_atom_quantum_computer). Ion Traps are a form of _Logical Quantum Computer_: they work by exploiting the quantum properties of their components to enable the computer to _abstractly_ perform computations without any major physical change in the device itself. Neutral-Atom Quantum Computers (NAQCs) are a form of _Analog Quantum Computer_: they work by building a physical \"machine\" composed of atoms that intract with each other naturally. This project leverages the [Aquila](https://arxiv.org/abs/2306.11727) NAQC developed by QuEra. Without making this notebook dozens of pages longer, I'll briefly describe how it works and what sorts of neat things we can do with it."
   ]
  },
  {
   "cell_type": "markdown",
   "id": "85551159-a925-4561-879c-83c99b5b1fd2",
   "metadata": {},
   "source": [
    "Aquila is a 256-qubit neutral atom quantum computer that exploits quantum states by physically arranging individual rubidium atoms in user-defined positions. Rubidium is positioned on the first column of the periodic table, meaning that its chemical and quantum mechanical properties share a similarity with hydrogen: mainly that it has a single electron in its outermost shell. When a pulse of light hits this electron, it has a chance to \"puff\" outward from the atom's nucleus into an \"orbit\" farther away. We call the initial state (before the pulse of light) the _ground state_, and the \"puffed\" state the _Rydberg state_. In quantum mechanical formalism, we use $\\ket{g}$ to denote the _ground state_ and $\\ket{r}$ to denote the _Rydberg state_."
   ]
  },
  {
   "cell_type": "markdown",
   "id": "4e6941fa-657c-401b-bf91-6c71f106e848",
   "metadata": {},
   "source": [
    "![Rydberg States](docs/img/atom-simplified.png)"
   ]
  },
  {
   "cell_type": "markdown",
   "id": "54469d8c-22f6-432d-87bf-3feb0ba3ce73",
   "metadata": {},
   "source": [
    "The _ground_ and _Rydberg_ states together make up the two possible _measurement states_ of a qubit (although reversed from what you might think, so $\\ket{g}$ corresponds to $\\ket{1}$). I explicitly say _measurement states_ because until a measurement on the system is made, each atom exists in a [superposition](https://en.wikipedia.org/wiki/Quantum_superposition) of both states. Mathematically this concept is represented like so (for a single atom):"
   ]
  },
  {
   "cell_type": "markdown",
   "id": "6c7eba36-988a-440e-b0a3-064cb08c5242",
   "metadata": {},
   "source": [
    "\\begin{equation}\n",
    "\\ket{\\Psi} = c_0 \\ket{g} + c_1 \\ket{r}\n",
    "\\end{equation}"
   ]
  },
  {
   "cell_type": "markdown",
   "id": "c3ab6f11-b0a6-4cda-af33-40bdd1c0f1c1",
   "metadata": {},
   "source": [
    "Where $\\ket{\\Psi}$ is the quantum (unmeasured) state of the system, $c_{0}$ is the _probability amplitude_ of measuring the state as $\\ket{g}$, and $c_{1}$ is the _probability amplitude_ of measuring the state as $\\ket{r}$. The \"real\" probability of measuring one state or another is obtained by squaring the corresponding $c$ values."
   ]
  },
  {
   "cell_type": "markdown",
   "id": "168c6bbe-4301-4f11-8c7c-e5c0cff9edc9",
   "metadata": {},
   "source": [
    "The last bit of quantum theory I need to talk about describes the _dynamics_ or _evolution_ of the quantum system. In Aquila, we perform a quantum computation by positioning a bunch of rubidium atoms on a 2D plane with some initial state using a series of lasers called \"atomic tweezers\". We then interact with the system with a _driving laser_ that causes certain atoms to enter or leave the Rydberg state. Atoms which are positioned close to each other such that their orbitals overlap during this transition will cause them to interact. The overall dynamics of this system, and indeed any quantum system, is determined by the time-dependent Schrödinger equation:"
   ]
  },
  {
   "cell_type": "markdown",
   "id": "81c99e8a-1fff-450d-b448-fe1375b8f825",
   "metadata": {},
   "source": [
    "\\begin{equation}\n",
    "i \\hbar \\frac{\\partial}{\\partial t} \\ket{\\Psi} = \\mathcal{H}(t) \\ket{\\Psi}\n",
    "\\end{equation}"
   ]
  },
  {
   "cell_type": "markdown",
   "id": "3422412a-5032-47b7-a1fd-0d53a78fc23b",
   "metadata": {},
   "source": [
    "Where $\\hbar$ is the reduced Planck's constant, $i$ is the imaginary number, $t$ is time, $\\ket{\\Psi}$ is the quantum state of the system, and $\\mathcal{H}(t)$ represents what's called the _Hamiltonian Operator_ which mutates the state of the system over time. For Aquila specifically, the Hamiltonian is defined by this ugly-looking equation:"
   ]
  },
  {
   "cell_type": "markdown",
   "id": "30c05b72-0006-48fd-b6ef-6a6ca0280b2d",
   "metadata": {},
   "source": [
    "\\begin{equation}\n",
    "\\frac{\\mathcal{H}(t)}{\\hbar} = \\sum_i \\frac{\\Omega(t)}{2} \\left( e^{i \\phi(t) } \\ket{g_i} \\bra{r_i} + e^{-i \\phi(t) } \\ket{r_i} \\bra{g_i} \\right) - \\sum_i \\Delta(t) \\hat{n}_i + \\sum_{i < j} V_{ij} \\hat{n}_i \\hat{n}_j.\n",
    "\\end{equation}"
   ]
  },
  {
   "cell_type": "markdown",
   "id": "958464ed-addc-48e6-bf77-10537e69a47c",
   "metadata": {},
   "source": [
    "The only thing you need to know about the above is that the equation controlling the dynamics of the system contains three input parameters that can vary with time:\n",
    "\n",
    "1. $\\Omega(t)$ - The _Rabi Amplitude_, which determines the frequency at which each atom oscillates between the ground and\n",
    "Rydberg states in the _absence_ of interactions with other atoms.\n",
    "2. $\\phi(t)$ - The _Phase_ of the driving lazer.\n",
    "3. $\\Delta(t)$ - The _Detuning_ of the driving lazer."
   ]
  },
  {
   "cell_type": "markdown",
   "id": "7cf5677c-c613-4caa-9e46-f5fba34ee16a",
   "metadata": {},
   "source": [
    "### Translating Boolean Functions to Neutral Atoms"
   ]
  },
  {
   "cell_type": "markdown",
   "id": "db7913de-d93a-454e-87ca-8bad0ef9ff79",
   "metadata": {},
   "source": [
    "So how does one take a boolean function and convert that into a computation with neutral atoms? Well, it turns out each boolean function _can_ be implemented via certain atom configurations. For instance, a traditional `NOT` gate can be implemented by two entangled atoms (either veritcally or horizontally). The top atom is the input qubit and the bottom atom is the output qubit."
   ]
  },
  {
   "cell_type": "code",
   "execution_count": 13,
   "id": "b420cef1-6636-4ca9-99e8-5428de9f4f13",
   "metadata": {},
   "outputs": [
    {
     "data": {
      "text/plain": [
       "                                   \u001b[0m\u001b[38;5;15mAtom Positions\u001b[0m                               \u001b[0m\n",
       "    \u001b[0m\u001b[38;5;15m┌──────────────────────────────────────────────────────────────────────────┐\u001b[0m\n",
       "\u001b[38;5;15m6.00┤\u001b[0m                                     \u001b[0m\u001b[38;2;100;55;255m•\u001b[0m                                    \u001b[0m\u001b[38;5;15m│\u001b[0m\n",
       "    \u001b[0m\u001b[38;5;15m│\u001b[0m                                                                          \u001b[0m\u001b[38;5;15m│\u001b[0m\n",
       "    \u001b[0m\u001b[38;5;15m│\u001b[0m                                                                          \u001b[0m\u001b[38;5;15m│\u001b[0m\n",
       "\u001b[38;5;15m5.17┤\u001b[0m                                                                          \u001b[0m\u001b[38;5;15m│\u001b[0m\n",
       "    \u001b[0m\u001b[38;5;15m│\u001b[0m                                                                          \u001b[0m\u001b[38;5;15m│\u001b[0m\n",
       "    \u001b[0m\u001b[38;5;15m│\u001b[0m                                                                          \u001b[0m\u001b[38;5;15m│\u001b[0m\n",
       "\u001b[38;5;15m4.33┤\u001b[0m                                                                          \u001b[0m\u001b[38;5;15m│\u001b[0m\n",
       "    \u001b[0m\u001b[38;5;15m│\u001b[0m                                                                          \u001b[0m\u001b[38;5;15m│\u001b[0m\n",
       "    \u001b[0m\u001b[38;5;15m│\u001b[0m                                                                          \u001b[0m\u001b[38;5;15m│\u001b[0m\n",
       "\u001b[38;5;15m3.50┤\u001b[0m                                                                          \u001b[0m\u001b[38;5;15m│\u001b[0m\n",
       "    \u001b[0m\u001b[38;5;15m│\u001b[0m                                                                          \u001b[0m\u001b[38;5;15m│\u001b[0m\n",
       "    \u001b[0m\u001b[38;5;15m│\u001b[0m                                                                          \u001b[0m\u001b[38;5;15m│\u001b[0m\n",
       "\u001b[38;5;15m2.67┤\u001b[0m                                                                          \u001b[0m\u001b[38;5;15m│\u001b[0m\n",
       "    \u001b[0m\u001b[38;5;15m│\u001b[0m                                                                          \u001b[0m\u001b[38;5;15m│\u001b[0m\n",
       "    \u001b[0m\u001b[38;5;15m│\u001b[0m                                                                          \u001b[0m\u001b[38;5;15m│\u001b[0m\n",
       "\u001b[38;5;15m1.83┤\u001b[0m                                                                          \u001b[0m\u001b[38;5;15m│\u001b[0m\n",
       "    \u001b[0m\u001b[38;5;15m│\u001b[0m                                                                          \u001b[0m\u001b[38;5;15m│\u001b[0m\n",
       "    \u001b[0m\u001b[38;5;15m│\u001b[0m                                                                          \u001b[0m\u001b[38;5;15m│\u001b[0m\n",
       "\u001b[38;5;15m1.00┤\u001b[0m                                     \u001b[0m\u001b[38;2;100;55;255m•\u001b[0m                                    \u001b[0m\u001b[38;5;15m│\u001b[0m\n",
       "    \u001b[0m\u001b[38;5;15m└┬─────────────────┬──────────────────┬─────────────────┬─────────────────┬┘\u001b[0m\n",
       "    \u001b[0m\u001b[38;5;15m2.5\u001b[0m               \u001b[0m\u001b[38;5;15m3.8\u001b[0m                \u001b[0m\u001b[38;5;15m5.0\u001b[0m               \u001b[0m\u001b[38;5;15m6.2\u001b[0m              \u001b[0m\u001b[38;5;15m7.5\u001b[0m \u001b[0m\n",
       "\u001b[38;5;15my (um)\u001b[0m                                 \u001b[0m\u001b[38;5;15mx (um)\u001b[0m                                   \u001b[0m\n"
      ]
     },
     "execution_count": 13,
     "metadata": {},
     "output_type": "execute_result"
    }
   ],
   "source": [
    "from qbn.atoms import NOT_GATE\n",
    "NOT_GATE"
   ]
  },
  {
   "cell_type": "markdown",
   "id": "b253b10e-3003-4668-844a-55c79ebc9172",
   "metadata": {},
   "source": [
    "Binary gates are much more complex. Below is what an `AND` gate looks like. Weirdly, the atom at the bottom represents the first input and the atom at the top right of the square represents the second input. The output of the gate is captured on the bottom left corner of the square."
   ]
  },
  {
   "cell_type": "code",
   "execution_count": 14,
   "id": "1ec3c604-9a8b-4aa4-b096-151b3555cc6e",
   "metadata": {},
   "outputs": [
    {
     "data": {
      "text/plain": [
       "                                   \u001b[0m\u001b[38;5;15mAtom Positions\u001b[0m                               \u001b[0m\n",
       "    \u001b[0m\u001b[38;5;15m┌──────────────────────────────────────────────────────────────────────────┐\u001b[0m\n",
       "\u001b[38;5;15m21.0┤\u001b[0m\u001b[38;2;100;55;255m•\u001b[0m                                                                        \u001b[0m\u001b[38;2;100;55;255m•\u001b[0m\u001b[38;5;15m│\u001b[0m\n",
       "    \u001b[0m\u001b[38;5;15m│\u001b[0m                                                                          \u001b[0m\u001b[38;5;15m│\u001b[0m\n",
       "    \u001b[0m\u001b[38;5;15m│\u001b[0m                                                                          \u001b[0m\u001b[38;5;15m│\u001b[0m\n",
       "\u001b[38;5;15m17.7┤\u001b[0m                                                                          \u001b[0m\u001b[38;5;15m│\u001b[0m\n",
       "    \u001b[0m\u001b[38;5;15m│\u001b[0m                                                                          \u001b[0m\u001b[38;5;15m│\u001b[0m\n",
       "    \u001b[0m\u001b[38;5;15m│\u001b[0m                                                                          \u001b[0m\u001b[38;5;15m│\u001b[0m\n",
       "\u001b[38;5;15m14.3┤\u001b[0m                                                                          \u001b[0m\u001b[38;5;15m│\u001b[0m\n",
       "    \u001b[0m\u001b[38;5;15m│\u001b[0m\u001b[38;2;100;55;255m•\u001b[0m                                                                        \u001b[0m\u001b[38;2;100;55;255m•\u001b[0m\u001b[38;5;15m│\u001b[0m\n",
       "    \u001b[0m\u001b[38;5;15m│\u001b[0m                                                                          \u001b[0m\u001b[38;5;15m│\u001b[0m\n",
       "\u001b[38;5;15m11.0┤\u001b[0m                                                                          \u001b[0m\u001b[38;5;15m│\u001b[0m\n",
       "    \u001b[0m\u001b[38;5;15m│\u001b[0m                                                                          \u001b[0m\u001b[38;5;15m│\u001b[0m\n",
       "    \u001b[0m\u001b[38;5;15m│\u001b[0m                                     \u001b[0m\u001b[38;2;100;55;255m•\u001b[0m                                    \u001b[0m\u001b[38;5;15m│\u001b[0m\n",
       "\u001b[38;5;15m 7.7┤\u001b[0m                                                                          \u001b[0m\u001b[38;5;15m│\u001b[0m\n",
       "    \u001b[0m\u001b[38;5;15m│\u001b[0m                                                                          \u001b[0m\u001b[38;5;15m│\u001b[0m\n",
       "    \u001b[0m\u001b[38;5;15m│\u001b[0m                                                                          \u001b[0m\u001b[38;5;15m│\u001b[0m\n",
       "\u001b[38;5;15m 4.3┤\u001b[0m                                                                          \u001b[0m\u001b[38;5;15m│\u001b[0m\n",
       "    \u001b[0m\u001b[38;5;15m│\u001b[0m                                                                          \u001b[0m\u001b[38;5;15m│\u001b[0m\n",
       "    \u001b[0m\u001b[38;5;15m│\u001b[0m                                                                          \u001b[0m\u001b[38;5;15m│\u001b[0m\n",
       "\u001b[38;5;15m 1.0┤\u001b[0m                                     \u001b[0m\u001b[38;2;100;55;255m•\u001b[0m                                    \u001b[0m\u001b[38;5;15m│\u001b[0m\n",
       "    \u001b[0m\u001b[38;5;15m└┬─────────────────┬──────────────────┬─────────────────┬─────────────────┬┘\u001b[0m\n",
       "     \u001b[0m\u001b[38;5;15m1\u001b[0m                 \u001b[0m\u001b[38;5;15m3\u001b[0m                  \u001b[0m\u001b[38;5;15m5\u001b[0m                 \u001b[0m\u001b[38;5;15m7\u001b[0m                 \u001b[0m\u001b[38;5;15m9\u001b[0m \u001b[0m\n",
       "\u001b[38;5;15my (um)\u001b[0m                                 \u001b[0m\u001b[38;5;15mx (um)\u001b[0m                                   \u001b[0m\n"
      ]
     },
     "execution_count": 14,
     "metadata": {},
     "output_type": "execute_result"
    }
   ],
   "source": [
    "from qbn.atoms import AND_GATE\n",
    "AND_GATE"
   ]
  },
  {
   "cell_type": "markdown",
   "id": "7c1b390d-f153-4931-bb51-32de33768525",
   "metadata": {},
   "source": [
    "To be able to build a quantum representation of our boolean network, we need to construct a lattice comprised of a variety of shapes similar to the above. Here's an example of a lattice representing a network comprised of only XNOR functions:"
   ]
  },
  {
   "cell_type": "markdown",
   "id": "a2883575-a4d7-4661-9230-b460e7fe28d5",
   "metadata": {},
   "source": [
    "![XNOR Lattice](docs/img/xnor-lattice.png)"
   ]
  },
  {
   "cell_type": "markdown",
   "id": "64b15d29-6de4-4fba-8aef-21f13c863b7b",
   "metadata": {},
   "source": [
    "\"Cool, so just build a lattice for each version of the network during training right?\"\n",
    "\n",
    "Unfortunately, the answer to the above question is \"no\". That approach would only replicate the classical training algorithm but compute the results of each run in a \"quantum way\". At the end of the day, we're still just randomly mutating a network until we find a better one. What we need to do is figure out how to think of some arrangement of atoms that effectively \"relaxes\" into the correct solution. Therefore, each \"chunk\" needs to be not the quantum version of a classical boolean function, but something else that can behave like _any arbitrary boolean function_. Ideally, this hypothetical configuration of atoms would have some kind of \"internal memory\" that switches it between the various equivalent boolean functions.\n",
    "\n",
    "Enter the [Toffoli Gate](https://en.wikipedia.org/wiki/Toffoli_gate). "
   ]
  },
  {
   "cell_type": "markdown",
   "id": "c6c014cb-85cf-4ae2-8879-1a37c552d8a5",
   "metadata": {},
   "source": [
    "### Toffoli Gates & Reversable Boolean Computations"
   ]
  },
  {
   "cell_type": "markdown",
   "id": "17966091-6343-474c-8c8a-4aabcc6d622d",
   "metadata": {},
   "source": [
    "At this point we're starting to reach truly novel stuff that pushes the limits of the hardware at our disposal. I'm going to be brief here (I promise this time). Toffoli gates require at minimum 3 qubits to construct, depending on whether chaining multiple Toffoli gates together is acceptable (not for us, unfortunately). Since each universal gate needs two input \"qubit wires\" and one output qubit wire, we're looking at 6 qubits per neuron of our network. This means we cannot, with current harware limitations, run a network with more than 42 neurons _in total_. In reality, you're probably looking at a limit of something like 10-21 neurons because each gate needs to be sufficiently isolated from the quantum effects of other gates. So you _might_ be able to get away with classifying the \"left vs. right\" problem for an array of length 5 or so. Hardly \"Quantum Supremacy\", am I right?"
   ]
  },
  {
   "cell_type": "markdown",
   "id": "fd828418-5f70-43ac-848c-82bcbd1881f5",
   "metadata": {},
   "source": [
    "### Amazon Braket, Bloqade, & Grainger"
   ]
  },
  {
   "cell_type": "markdown",
   "id": "4acf9b72-31ab-4bd3-9e71-ac1041535d8d",
   "metadata": {},
   "source": [
    "So how does one just \"run code\" on an Aquila quantum computer? Before we even talk about what to run _on_ the machine, we have to first figure out how to gain access to one and how to interface with it. Believe it or not, anyone in the world can currently submit tasks to an Aquila quantum computer (and a variety of other ones as well) through an AWS resource called [Amazon Braket](https://aws.amazon.com/braket/). Amazon exposes a incredibly simple API called the [Amazon Braket SDK](https://github.com/amazon-braket/amazon-braket-sdk-python). Interaction via the SDK typically looks something like this:"
   ]
  },
  {
   "cell_type": "code",
   "execution_count": null,
   "id": "c338266f-f5e9-4fe1-ad7c-1ed6c4d3536d",
   "metadata": {},
   "outputs": [],
   "source": [
    "import boto3\n",
    "import pandas as pd\n",
    "from braket.ahs.atom_arrangement import AtomArrangement\n",
    "from braket.aws import AwsDevice, AwsSession\n",
    "from braket.devices import Devices\n",
    "\n",
    "AWS_PROFILE = 'quintic-shock'\n",
    "\n",
    "# Setup AWS Session.\n",
    "session = AwsSession(boto_session=boto3.Session(profile_name=AWS_PROFILE))\n",
    "\n",
    "# Register and Connect to an Aquila QC.\n",
    "device = AwsDevice(Devices.QuEra.Aquila, aws_session=session)\n",
    "\n",
    "# Display some technical information about the device's capabilities.\n",
    "device_properties = device.properties.dict()\n",
    "device_properties['paradigm']['lattice']['geometry']"
   ]
  },
  {
   "cell_type": "markdown",
   "id": "6da41c88-49d1-4c0c-b5f4-1d377bc78b84",
   "metadata": {},
   "source": [
    "In the above, we can see that the minimum allowed spacing between atoms is $4 \\mu m$, with 256 \"sites\" (atoms) maximum. I won't go further into the contraints around atom placement, but it should be mentioned that there are indeed some limitations. I'm also not going to show more about the Amazon Braket SDK because to be completely frank, it's really difficult to work with. The _actual_ library we will be using is called [Bloqade](https://github.com/QuEraComputing/bloqade-python), which is written by QuEra as a wrapper around the Braket SDK.\n",
    "\n",
    "With Bloqade, defining the positions of atoms is as simple as providing a list of xy coordinates (measured in $\\mu m$):"
   ]
  },
  {
   "cell_type": "code",
   "execution_count": 15,
   "id": "1a1b1691-0458-4ee6-8366-a07737e180b3",
   "metadata": {},
   "outputs": [
    {
     "data": {
      "text/plain": [
       "                                   \u001b[0m\u001b[38;5;15mAtom Positions\u001b[0m                               \u001b[0m\n",
       "    \u001b[0m\u001b[38;5;15m┌──────────────────────────────────────────────────────────────────────────┐\u001b[0m\n",
       "\u001b[38;5;15m10.0┤\u001b[0m                                                                         \u001b[0m\u001b[38;2;100;55;255m•\u001b[0m\u001b[38;5;15m│\u001b[0m\n",
       "    \u001b[0m\u001b[38;5;15m│\u001b[0m                                                                          \u001b[0m\u001b[38;5;15m│\u001b[0m\n",
       "    \u001b[0m\u001b[38;5;15m│\u001b[0m\u001b[38;2;100;55;255m•\u001b[0m                                                                         \u001b[0m\u001b[38;5;15m│\u001b[0m\n",
       "\u001b[38;5;15m 8.3┤\u001b[0m                                                                          \u001b[0m\u001b[38;5;15m│\u001b[0m\n",
       "    \u001b[0m\u001b[38;5;15m│\u001b[0m                                                                          \u001b[0m\u001b[38;5;15m│\u001b[0m\n",
       "    \u001b[0m\u001b[38;5;15m│\u001b[0m                                                 \u001b[0m\u001b[38;2;100;55;255m•\u001b[0m                        \u001b[0m\u001b[38;5;15m│\u001b[0m\n",
       "\u001b[38;5;15m 6.7┤\u001b[0m                                                                          \u001b[0m\u001b[38;5;15m│\u001b[0m\n",
       "    \u001b[0m\u001b[38;5;15m│\u001b[0m                                                                          \u001b[0m\u001b[38;5;15m│\u001b[0m\n",
       "    \u001b[0m\u001b[38;5;15m│\u001b[0m                                                                          \u001b[0m\u001b[38;5;15m│\u001b[0m\n",
       "\u001b[38;5;15m 5.0┤\u001b[0m\u001b[38;2;100;55;255m•\u001b[0m                                                                         \u001b[0m\u001b[38;5;15m│\u001b[0m\n",
       "    \u001b[0m\u001b[38;5;15m│\u001b[0m                                                                          \u001b[0m\u001b[38;5;15m│\u001b[0m\n",
       "    \u001b[0m\u001b[38;5;15m│\u001b[0m                                                                          \u001b[0m\u001b[38;5;15m│\u001b[0m\n",
       "\u001b[38;5;15m 3.3┤\u001b[0m                                                                          \u001b[0m\u001b[38;5;15m│\u001b[0m\n",
       "    \u001b[0m\u001b[38;5;15m│\u001b[0m                                                                          \u001b[0m\u001b[38;5;15m│\u001b[0m\n",
       "    \u001b[0m\u001b[38;5;15m│\u001b[0m                                         \u001b[0m\u001b[38;2;100;55;255m•\u001b[0m                                \u001b[0m\u001b[38;5;15m│\u001b[0m\n",
       "\u001b[38;5;15m 1.7┤\u001b[0m                                                                          \u001b[0m\u001b[38;5;15m│\u001b[0m\n",
       "    \u001b[0m\u001b[38;5;15m│\u001b[0m                                                                          \u001b[0m\u001b[38;5;15m│\u001b[0m\n",
       "    \u001b[0m\u001b[38;5;15m│\u001b[0m                                                                          \u001b[0m\u001b[38;5;15m│\u001b[0m\n",
       "\u001b[38;5;15m 0.0┤\u001b[0m\u001b[38;2;100;55;255m•\u001b[0m                                                                         \u001b[0m\u001b[38;5;15m│\u001b[0m\n",
       "    \u001b[0m\u001b[38;5;15m└┬─────────────────┬──────────────────┬─────────────────┬─────────────────┬┘\u001b[0m\n",
       "    \u001b[0m\u001b[38;5;15m0.0\u001b[0m               \u001b[0m\u001b[38;5;15m2.2\u001b[0m                \u001b[0m\u001b[38;5;15m4.5\u001b[0m               \u001b[0m\u001b[38;5;15m6.8\u001b[0m              \u001b[0m\u001b[38;5;15m9.0\u001b[0m \u001b[0m\n",
       "\u001b[38;5;15my (um)\u001b[0m                                 \u001b[0m\u001b[38;5;15mx (um)\u001b[0m                                   \u001b[0m\n"
      ]
     },
     "execution_count": 15,
     "metadata": {},
     "output_type": "execute_result"
    }
   ],
   "source": [
    "from bloqade.atom_arrangement import ListOfLocations\n",
    "\n",
    "example_atom_locations = ListOfLocations([\n",
    "    (0.0, 0.0),\n",
    "    (0.0, 5.0),\n",
    "    (0.0, 9.0),\n",
    "    (5.0, 2.0),\n",
    "    (6.0, 7.0),\n",
    "    (9.0, 10.0)\n",
    "])\n",
    "\n",
    "example_atom_locations"
   ]
  },
  {
   "cell_type": "markdown",
   "id": "7e9fccd1-a294-438a-b9b4-32268c7b2990",
   "metadata": {},
   "source": [
    "Here's one I made in honor of KubeCon (I swear it's supposed to be the Kubernetes logo):"
   ]
  },
  {
   "cell_type": "code",
   "execution_count": 16,
   "id": "83da1c1c-a8d9-4019-98ba-2e2713162c45",
   "metadata": {},
   "outputs": [
    {
     "data": {
      "text/plain": [
       "                                   \u001b[0m\u001b[38;5;15mAtom Positions\u001b[0m                               \u001b[0m\n",
       "    \u001b[0m\u001b[38;5;15m┌──────────────────────────────────────────────────────────────────────────┐\u001b[0m\n",
       "\u001b[38;5;15m10.2┤\u001b[0m                                    \u001b[0m\u001b[38;2;100;55;255m•\u001b[0m                                     \u001b[0m\u001b[38;5;15m│\u001b[0m\n",
       "    \u001b[0m\u001b[38;5;15m│\u001b[0m                                                                          \u001b[0m\u001b[38;5;15m│\u001b[0m\n",
       "    \u001b[0m\u001b[38;5;15m│\u001b[0m                                                                          \u001b[0m\u001b[38;5;15m│\u001b[0m\n",
       "\u001b[38;5;15m 8.9┤\u001b[0m                         \u001b[0m\u001b[38;2;100;55;255m•\u001b[0m          \u001b[0m\u001b[38;2;100;55;255m•\u001b[0m          \u001b[0m\u001b[38;2;100;55;255m•\u001b[0m                          \u001b[0m\u001b[38;5;15m│\u001b[0m\n",
       "    \u001b[0m\u001b[38;5;15m│\u001b[0m       \u001b[0m\u001b[38;2;100;55;255m•\u001b[0m                                                         \u001b[0m\u001b[38;2;100;55;255m•\u001b[0m        \u001b[0m\u001b[38;5;15m│\u001b[0m\n",
       "    \u001b[0m\u001b[38;5;15m│\u001b[0m                                                        \u001b[0m\u001b[38;2;100;55;255m•\u001b[0m                 \u001b[0m\u001b[38;5;15m│\u001b[0m\n",
       "\u001b[38;5;15m 7.5┤\u001b[0m                 \u001b[0m\u001b[38;2;100;55;255m•\u001b[0m                   \u001b[0m\u001b[38;2;100;55;255m•\u001b[0m                                    \u001b[0m\u001b[38;5;15m│\u001b[0m\n",
       "    \u001b[0m\u001b[38;5;15m│\u001b[0m                         \u001b[0m\u001b[38;2;100;55;255m•\u001b[0m                       \u001b[0m\u001b[38;2;100;55;255m•\u001b[0m                        \u001b[0m\u001b[38;5;15m│\u001b[0m\n",
       "    \u001b[0m\u001b[38;5;15m│\u001b[0m            \u001b[0m\u001b[38;2;100;55;255m•\u001b[0m                   \u001b[0m\u001b[38;2;100;55;255m•\u001b[0m    \u001b[0m\u001b[38;2;100;55;255m•\u001b[0m     \u001b[0m\u001b[38;2;100;55;255m•\u001b[0m                 \u001b[0m\u001b[38;2;100;55;255m•\u001b[0m            \u001b[0m\u001b[38;5;15m│\u001b[0m\n",
       "\u001b[38;5;15m 6.2┤\u001b[0m                                     \u001b[0m\u001b[38;2;100;55;255m•\u001b[0m                                    \u001b[0m\u001b[38;5;15m│\u001b[0m\n",
       "    \u001b[0m\u001b[38;5;15m│\u001b[0m                      \u001b[0m\u001b[38;2;100;55;255m•\u001b[0m        \u001b[0m\u001b[38;2;100;55;255m•\u001b[0m            \u001b[0m\u001b[38;2;100;55;255m•\u001b[0m      \u001b[0m\u001b[38;2;100;55;255m•\u001b[0m                      \u001b[0m\u001b[38;5;15m│\u001b[0m\n",
       "    \u001b[0m\u001b[38;5;15m│\u001b[0m\u001b[38;2;100;55;255m•\u001b[0m           \u001b[0m\u001b[38;2;100;55;255m•\u001b[0m                     \u001b[0m\u001b[38;2;100;55;255m•\u001b[0m     \u001b[0m\u001b[38;2;100;55;255m•\u001b[0m                     \u001b[0m\u001b[38;2;100;55;255m•\u001b[0m           \u001b[0m\u001b[38;5;15m│\u001b[0m\n",
       "\u001b[38;5;15m 4.8┤\u001b[0m                                                                         \u001b[0m\u001b[38;2;100;55;255m•\u001b[0m\u001b[38;5;15m│\u001b[0m\n",
       "    \u001b[0m\u001b[38;5;15m│\u001b[0m                \u001b[0m\u001b[38;2;100;55;255m•\u001b[0m            \u001b[0m\u001b[38;2;100;55;255m•\u001b[0m              \u001b[0m\u001b[38;2;100;55;255m•\u001b[0m                             \u001b[0m\u001b[38;5;15m│\u001b[0m\n",
       "    \u001b[0m\u001b[38;5;15m│\u001b[0m                                                        \u001b[0m\u001b[38;2;100;55;255m•\u001b[0m                 \u001b[0m\u001b[38;5;15m│\u001b[0m\n",
       "\u001b[38;5;15m 3.5┤\u001b[0m                          \u001b[0m\u001b[38;2;100;55;255m•\u001b[0m                     \u001b[0m\u001b[38;2;100;55;255m•\u001b[0m                         \u001b[0m\u001b[38;5;15m│\u001b[0m\n",
       "    \u001b[0m\u001b[38;5;15m│\u001b[0m                                    \u001b[0m\u001b[38;2;100;55;255m•\u001b[0m                                     \u001b[0m\u001b[38;5;15m│\u001b[0m\n",
       "    \u001b[0m\u001b[38;5;15m│\u001b[0m                                                                          \u001b[0m\u001b[38;5;15m│\u001b[0m\n",
       "\u001b[38;5;15m 2.1┤\u001b[0m                    \u001b[0m\u001b[38;2;100;55;255m•\u001b[0m                                \u001b[0m\u001b[38;2;100;55;255m•\u001b[0m                    \u001b[0m\u001b[38;5;15m│\u001b[0m\n",
       "    \u001b[0m\u001b[38;5;15m└┬─────────────────┬──────────────────┬─────────────────┬─────────────────┬┘\u001b[0m\n",
       "    \u001b[0m\u001b[38;5;15m1.5\u001b[0m               \u001b[0m\u001b[38;5;15m3.6\u001b[0m                \u001b[0m\u001b[38;5;15m5.7\u001b[0m               \u001b[0m\u001b[38;5;15m7.8\u001b[0m              \u001b[0m\u001b[38;5;15m9.9\u001b[0m \u001b[0m\n",
       "\u001b[38;5;15my (um)\u001b[0m                                 \u001b[0m\u001b[38;5;15mx (um)\u001b[0m                                   \u001b[0m\n"
      ]
     },
     "execution_count": 16,
     "metadata": {},
     "output_type": "execute_result"
    }
   ],
   "source": [
    "from qbn.atoms import KUBECON\n",
    "\n",
    "KUBECON"
   ]
  },
  {
   "cell_type": "markdown",
   "id": "7fb959b3-3809-4d20-a84a-b9ec514640dd",
   "metadata": {},
   "source": [
    "Honestly I'd add more here but I need to work on my powerpoint XD"
   ]
  },
  {
   "cell_type": "markdown",
   "id": "29695d98-1466-4b77-8ffe-5d6de6c3ebb8",
   "metadata": {},
   "source": [
    "## Solution"
   ]
  },
  {
   "cell_type": "markdown",
   "id": "6a9f6484-960c-498d-bdeb-7216117d053a",
   "metadata": {},
   "source": [
    "### Case 1: Left vs. Right"
   ]
  },
  {
   "cell_type": "markdown",
   "id": "e288511e-6e5c-4919-8b18-2a8183e719f8",
   "metadata": {},
   "source": [
    "Let's start small by trying to optimize the left vs. right problem for a slightly larger array of values. Since it's actually really easy to compute these, we can actually generate all possible combinations, shuffle them, and then cut the set in half."
   ]
  },
  {
   "cell_type": "code",
   "execution_count": 17,
   "id": "81a58405-7d69-4900-b2c9-f64ff07404c8",
   "metadata": {},
   "outputs": [],
   "source": [
    "from qbn.datasets import get_left_vs_right\n",
    "(lvr_training, lvr_test) = get_left_vs_right(length=16)"
   ]
  },
  {
   "cell_type": "markdown",
   "id": "5dea6b4b-aa46-48e7-8b43-9be4ed145c9f",
   "metadata": {},
   "source": [
    "Now let's define our network and check its initial state. We'll also serialize the network to disk so that we can repeat our experiment with the same initial conditions."
   ]
  },
  {
   "cell_type": "code",
   "execution_count": 18,
   "id": "0708cd44-fc4c-420d-b376-01dfebde155d",
   "metadata": {},
   "outputs": [
    {
     "data": {
      "text/plain": [
       "[4, 14, 9, 1, 14, 1, 4, 1, 6, 2, 8, 9, 7, 14, 4, 2]\n",
       "[9, 7, 4, 9, 1, 2, 11, 11, 7, 7, 8, 9, 2, 9, 4, 6]\n",
       "[8, 4, 1, 8, 4, 1, 2, 9, 13, 2, 8, 7, 13, 11, 7, 9]\n",
       "[8, 9, 8, 11, 13, 11, 14, 9, 14, 11, 14, 14, 14, 14, 8, 11]\n",
       "[8, 14, 4, 1, 7, 7, 8, 11, 8, 2, 13, 6, 14, 4, 4, 11]\n",
       "[13, 6, 8, 14, 9, 6, 2, 4, 13, 14, 6, 1, 9, 2, 13, 9]\n",
       "[7, 14, 13, 7, 1, 4, 2, 7, 4, 9, 1, 1, 14, 2, 4, 8]\n",
       "[2, 8, 8, 11, 4, 6, 2, 4, 2, 11, 14, 4, 13, 1, 14, 2]"
      ]
     },
     "execution_count": 18,
     "metadata": {},
     "output_type": "execute_result"
    }
   ],
   "source": [
    "from qbn.network import Network\n",
    "lvrn = Network.build([16] * 8)\n",
    "lvrn.layers"
   ]
  },
  {
   "cell_type": "code",
   "execution_count": 19,
   "id": "8e028e36-f601-4b1e-be43-e0b87ece4366",
   "metadata": {},
   "outputs": [
    {
     "data": {
      "text/plain": [
       "Valid?:            False\n",
       "Overall Accuracy:  0.0\n",
       "Accuracy By Class: {'both': 0.0, 'left': 0.0, 'right': 0.0, 'neither': 0.0}\n",
       "\n",
       "Classifications:\n",
       "{0001000001110010 -> both}"
      ]
     },
     "execution_count": 19,
     "metadata": {},
     "output_type": "execute_result"
    }
   ],
   "source": [
    "lvrn.accuracy(lvr_training)"
   ]
  },
  {
   "cell_type": "code",
   "execution_count": null,
   "id": "d77b2808-f698-4f84-a943-1548fcf5f8cd",
   "metadata": {},
   "outputs": [],
   "source": [
    "lvrn.save('lvrn.network')"
   ]
  },
  {
   "cell_type": "markdown",
   "id": "5b2d3216-31ea-438d-a500-9f14e8203f0b",
   "metadata": {},
   "source": [
    "Let's go through the process of training the network classically."
   ]
  },
  {
   "cell_type": "code",
   "execution_count": null,
   "id": "9fd0b663-1e00-4673-a4d7-136c2b804ff1",
   "metadata": {},
   "outputs": [],
   "source": [
    "lvrn.train_classical(lvr_training, max_iterations=100000)"
   ]
  }
 ],
 "metadata": {
  "kernelspec": {
   "display_name": "Python 3 (ipykernel)",
   "language": "python",
   "name": "python3"
  },
  "language_info": {
   "codemirror_mode": {
    "name": "ipython",
    "version": 3
   },
   "file_extension": ".py",
   "mimetype": "text/x-python",
   "name": "python",
   "nbconvert_exporter": "python",
   "pygments_lexer": "ipython3",
   "version": "3.11.10"
  }
 },
 "nbformat": 4,
 "nbformat_minor": 5
}
